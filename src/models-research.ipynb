{
 "cells": [
  {
   "cell_type": "code",
   "execution_count": 1,
   "id": "b54b7fb0-d784-464b-a3ac-1d5c8f8f695c",
   "metadata": {},
   "outputs": [],
   "source": [
    "from transformers import DistilBertTokenizer, DistilBertModel\n",
    "import pandas as pd\n",
    "import numpy as np\n",
    "from sklearn.metrics.pairwise import cosine_similarity\n",
    "import matplotlib.pyplot as plt\n",
    "import torch\n",
    "from annoy import AnnoyIndex\n",
    "\n",
    "tokenizer = DistilBertTokenizer.from_pretrained('distilbert-base-uncased')\n",
    "model = DistilBertModel.from_pretrained(\"distilbert-base-uncased\")"
   ]
  },
  {
   "cell_type": "code",
   "execution_count": 80,
   "id": "61610224-87a5-42e2-b64f-194fa689c9b1",
   "metadata": {},
   "outputs": [],
   "source": [
    "def pre_process(value: str):\n",
    "    encoded_input = tokenizer(value, return_tensors='pt')\n",
    "    output = model(**encoded_input)\n",
    "    return output.last_hidden_state.squeeze(0)[-1].detach().numpy().reshape(1, -1)"
   ]
  },
  {
   "cell_type": "code",
   "execution_count": 149,
   "id": "e0f2066d",
   "metadata": {},
   "outputs": [],
   "source": [
    "df_1 = pd.read_csv('../data/sample_data/top_10_artists_songs.csv')\n",
    "song_col = 'song_name'\n",
    "\n",
    "df_2 = pd.read_csv('../data/emoji.csv')\n",
    "emo_col = 'emoji'"
   ]
  },
  {
   "cell_type": "code",
   "execution_count": 171,
   "id": "f1765fce",
   "metadata": {},
   "outputs": [],
   "source": [
    "vectorized_lyrics = np.load('../data/sample_data/lyrics_vectorized.npy')\n",
    "embedding_dimension = model.config.hidden_size\n",
    "annoy_index_1 = AnnoyIndex(embedding_dimension, 'euclidean')\n",
    "for i, vector in enumerate(vectorized_lyrics):\n",
    "    annoy_index_1.add_item(i, vector)\n",
    "annoy_index_1.build(10)\n",
    "\n",
    "def find_nearest_song_annoy(emojis, df, n=1):\n",
    "    idx = annoy_index_1.get_nns_by_vector(pre_process(emojis).reshape(-1,1), n)\n",
    "    return list(df[song_col].iloc[idx])"
   ]
  },
  {
   "cell_type": "code",
   "execution_count": 172,
   "id": "6ac24902",
   "metadata": {},
   "outputs": [
    {
     "name": "stderr",
     "output_type": "stream",
     "text": [
      "C:\\Users\\purge\\AppData\\Local\\Temp\\ipykernel_10680\\600615493.py:9: DeprecationWarning: Conversion of an array with ndim > 0 to a scalar is deprecated, and will error in future. Ensure you extract a single element from your array before performing this operation. (Deprecated NumPy 1.25.)\n",
      "  idx = annoy_index_1.get_nns_by_vector(pre_process(emojis).reshape(-1,1), n)\n"
     ]
    },
    {
     "data": {
      "text/plain": [
       "['If I Were A Boy']"
      ]
     },
     "execution_count": 172,
     "metadata": {},
     "output_type": "execute_result"
    }
   ],
   "source": [
    "find_nearest_song_annoy('If I were a Boy', df_1)"
   ]
  },
  {
   "cell_type": "code",
   "execution_count": 173,
   "id": "b5a69bb6",
   "metadata": {},
   "outputs": [],
   "source": [
    "vectorized_name = np.load('../data/emoji_name_vectorized.npy')\n",
    "embedding_dimension = model.config.hidden_size\n",
    "annoy_index_2 = AnnoyIndex(embedding_dimension, 'euclidean')\n",
    "for i, vector in enumerate(vectorized_name):\n",
    "    annoy_index_2.add_item(i, vector)\n",
    "annoy_index_2.build(10)\n",
    "\n",
    "def clean_text(text):\n",
    "    nlp = spacy.load(\"en_core_web_sm\")\n",
    "    doc = nlp(text)\n",
    "    words = [token.text for token in doc if token.pos_ not in ['ADP', 'CCONJ', 'DET', 'PUNCT']]\n",
    "    text = ' '.join(words)\n",
    "    return text\n",
    "\n",
    "def find_nearest_emoji_annoy(in_text, df, n=1):\n",
    "    idx = annoy_index_2.get_nns_by_vector(pre_process(in_text).reshape(-1,1), n)\n",
    "    return list(df[emo_col].iloc[idx])\n",
    "\n",
    "def translate_text(text, k=1):\n",
    "    translated = \"\"\n",
    "    for word in clean_text(text).split():\n",
    "        closest = find_nearest_emoji_annoy(word, df_2, n=k)\n",
    "        translated += closest[-1] if isinstance(closest, list) else closest\n",
    "    return translated\n"
   ]
  },
  {
   "cell_type": "code",
   "execution_count": 182,
   "id": "4511f185",
   "metadata": {},
   "outputs": [
    {
     "name": "stderr",
     "output_type": "stream",
     "text": [
      "C:\\Users\\purge\\AppData\\Local\\Temp\\ipykernel_10680\\3673165023.py:16: DeprecationWarning: Conversion of an array with ndim > 0 to a scalar is deprecated, and will error in future. Ensure you extract a single element from your array before performing this operation. (Deprecated NumPy 1.25.)\n",
      "  idx = annoy_index_2.get_nns_by_vector(pre_process(in_text).reshape(-1,1), n)\n"
     ]
    },
    {
     "data": {
      "text/plain": [
       "'🅰️🆔🅰️👦'"
      ]
     },
     "execution_count": 182,
     "metadata": {},
     "output_type": "execute_result"
    }
   ],
   "source": [
    "translate_text('If I were a Boy')"
   ]
  },
  {
   "cell_type": "code",
   "execution_count": 183,
   "id": "f11d32d0",
   "metadata": {},
   "outputs": [
    {
     "name": "stderr",
     "output_type": "stream",
     "text": [
      "C:\\Users\\purge\\AppData\\Local\\Temp\\ipykernel_10680\\3673165023.py:16: DeprecationWarning: Conversion of an array with ndim > 0 to a scalar is deprecated, and will error in future. Ensure you extract a single element from your array before performing this operation. (Deprecated NumPy 1.25.)\n",
      "  idx = annoy_index_2.get_nns_by_vector(pre_process(in_text).reshape(-1,1), n)\n"
     ]
    },
    {
     "data": {
      "text/plain": [
       "'🧑\\u200d⚖️➕🧑\\u200d⚖️🧑\\u200d⚖️➕🧑\\u200d⚖️'"
      ]
     },
     "execution_count": 183,
     "metadata": {},
     "output_type": "execute_result"
    }
   ],
   "source": [
    "res = []\n",
    "for i in range(100):\n",
    "    cosine_similarity(a, b)\n",
    "\n",
    "\n",
    "print(np.mean(res))"
   ]
  },
  {
   "cell_type": "code",
   "execution_count": 181,
   "id": "d25f3e08",
   "metadata": {},
   "outputs": [
    {
     "name": "stdout",
     "output_type": "stream",
     "text": [
      "If I were a Boy\n",
      "Even Just for\n",
      "🅰️🆔🅰️👦🇮🇹🇮🇹\n"
     ]
    },
    {
     "name": "stderr",
     "output_type": "stream",
     "text": [
      "C:\\Users\\purge\\AppData\\Local\\Temp\\ipykernel_10680\\3673165023.py:16: DeprecationWarning: Conversion of an array with ndim > 0 to a scalar is deprecated, and will error in future. Ensure you extract a single element from your array before performing this operation. (Deprecated NumPy 1.25.)\n",
      "  idx = annoy_index_2.get_nns_by_vector(pre_process(in_text).reshape(-1,1), n)\n"
     ]
    }
   ],
   "source": [
    "test_text = df_1['lyrics'][2][:30]\n",
    "print(test_text)\n",
    "print(translate_text(test_text))\n"
   ]
  },
  {
   "cell_type": "code",
   "execution_count": 189,
   "id": "6b32d555",
   "metadata": {},
   "outputs": [
    {
     "name": "stderr",
     "output_type": "stream",
     "text": [
      "C:\\Users\\purge\\AppData\\Local\\Temp\\ipykernel_10680\\3673165023.py:16: DeprecationWarning: Conversion of an array with ndim > 0 to a scalar is deprecated, and will error in future. Ensure you extract a single element from your array before performing this operation. (Deprecated NumPy 1.25.)\n",
      "  idx = annoy_index_2.get_nns_by_vector(pre_process(in_text).reshape(-1,1), n)\n"
     ]
    },
    {
     "name": "stdout",
     "output_type": "stream",
     "text": [
      "Remember those walls I built\n",
      "\n",
      "🔙🪟🆔➕\n"
     ]
    },
    {
     "name": "stderr",
     "output_type": "stream",
     "text": [
      "C:\\Users\\purge\\AppData\\Local\\Temp\\ipykernel_10680\\3673165023.py:16: DeprecationWarning: Conversion of an array with ndim > 0 to a scalar is deprecated, and will error in future. Ensure you extract a single element from your array before performing this operation. (Deprecated NumPy 1.25.)\n",
      "  idx = annoy_index_2.get_nns_by_vector(pre_process(in_text).reshape(-1,1), n)\n"
     ]
    },
    {
     "name": "stdout",
     "output_type": "stream",
     "text": [
      "Driver roll up the partition p\n",
      "🏎️😪📝✌️\n",
      "0.96724147\n"
     ]
    }
   ],
   "source": [
    "n = 2\n",
    "res = []\n",
    "for i in range(n):\n",
    "    text = df_1['lyrics'][i][:30]\n",
    "    vec_from_song = pre_process(text)\n",
    "    vec_from_emoji = pre_process(translate_text(text))\n",
    "    \n",
    "    res.append(cosine_similarity(vec_from_song, vec_from_emoji))\n",
    "\n",
    "print(np.mean(res))\n"
   ]
  },
  {
   "cell_type": "code",
   "execution_count": 133,
   "id": "53f91a9c",
   "metadata": {},
   "outputs": [
    {
     "name": "stderr",
     "output_type": "stream",
     "text": [
      "C:\\Users\\purge\\AppData\\Local\\Temp\\ipykernel_10680\\3155432583.py:9: DeprecationWarning: Conversion of an array with ndim > 0 to a scalar is deprecated, and will error in future. Ensure you extract a single element from your array before performing this operation. (Deprecated NumPy 1.25.)\n",
      "  idx = annoy_index.get_nns_by_vector(pre_process(emojis).reshape(-1,1), n)\n"
     ]
    },
    {
     "data": {
      "text/plain": [
       "['the 1']"
      ]
     },
     "execution_count": 133,
     "metadata": {},
     "output_type": "execute_result"
    }
   ],
   "source": [
    "find_nearest_song_annoy('ca', df_1)"
   ]
  },
  {
   "cell_type": "code",
   "execution_count": 130,
   "id": "42733aa8",
   "metadata": {},
   "outputs": [
    {
     "data": {
      "text/plain": [
       "'Remember those walls I built\\r\\n'"
      ]
     },
     "execution_count": 130,
     "metadata": {},
     "output_type": "execute_result"
    }
   ],
   "source": [
    "df_1['lyrics'][0][:30]"
   ]
  }
 ],
 "metadata": {
  "kernelspec": {
   "display_name": "Python 3 (ipykernel)",
   "language": "python",
   "name": "python3"
  },
  "language_info": {
   "codemirror_mode": {
    "name": "ipython",
    "version": 3
   },
   "file_extension": ".py",
   "mimetype": "text/x-python",
   "name": "python",
   "nbconvert_exporter": "python",
   "pygments_lexer": "ipython3",
   "version": "3.11.6"
  }
 },
 "nbformat": 4,
 "nbformat_minor": 5
}
