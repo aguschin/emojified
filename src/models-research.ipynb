{
 "cells": [
  {
   "cell_type": "code",
   "execution_count": 1,
   "id": "91cf3b11",
   "metadata": {},
   "outputs": [
    {
     "ename": "NameError",
     "evalue": "name 'embed' is not defined",
     "output_type": "error",
     "traceback": [
      "\u001b[1;31m---------------------------------------------------------------------------\u001b[0m",
      "\u001b[1;31mNameError\u001b[0m                                 Traceback (most recent call last)",
      "\u001b[1;32mc:\\Users\\purge\\Documents\\Harbour.Space classes\\ML practice 2\\lyrics2emoji\\src\\models-research.ipynb Cell 1\u001b[0m line \u001b[0;36m9\n\u001b[0;32m      <a href='vscode-notebook-cell:/c%3A/Users/purge/Documents/Harbour.Space%20classes/ML%20practice%202/lyrics2emoji/src/models-research.ipynb#W0sZmlsZQ%3D%3D?line=5'>6</a>\u001b[0m \u001b[39mimport\u001b[39;00m \u001b[39memoji\u001b[39;00m \n\u001b[0;32m      <a href='vscode-notebook-cell:/c%3A/Users/purge/Documents/Harbour.Space%20classes/ML%20practice%202/lyrics2emoji/src/models-research.ipynb#W0sZmlsZQ%3D%3D?line=7'>8</a>\u001b[0m sys\u001b[39m.\u001b[39mpath\u001b[39m.\u001b[39mappend(\u001b[39m\"\u001b[39m\u001b[39msrc\u001b[39m\u001b[39m\"\u001b[39m)\n\u001b[1;32m----> <a href='vscode-notebook-cell:/c%3A/Users/purge/Documents/Harbour.Space%20classes/ML%20practice%202/lyrics2emoji/src/models-research.ipynb#W0sZmlsZQ%3D%3D?line=8'>9</a>\u001b[0m \u001b[39mfrom\u001b[39;00m \u001b[39msong_search\u001b[39;00m \u001b[39mimport\u001b[39;00m find_nearest_song_annoy\n",
      "File \u001b[1;32mc:\\Users\\purge\\Documents\\Harbour.Space classes\\ML practice 2\\lyrics2emoji\\src\\song_search.py:30\u001b[0m\n\u001b[0;32m     28\u001b[0m vectorized_lyrics \u001b[39m=\u001b[39m []\n\u001b[0;32m     29\u001b[0m \u001b[39mfor\u001b[39;00m text \u001b[39min\u001b[39;00m df[\u001b[39m'\u001b[39m\u001b[39mlyrics\u001b[39m\u001b[39m'\u001b[39m]\u001b[39m.\u001b[39mvalues:\n\u001b[1;32m---> 30\u001b[0m     vectorized_lyrics\u001b[39m.\u001b[39mappend(embed(text))\n\u001b[0;32m     32\u001b[0m \u001b[39m# parser, model, tokenizer\u001b[39;00m\n\u001b[0;32m     33\u001b[0m tokenizer \u001b[39m=\u001b[39m DistilBertTokenizer\u001b[39m.\u001b[39mfrom_pretrained(\u001b[39m'\u001b[39m\u001b[39mdistilbert-base-uncased\u001b[39m\u001b[39m'\u001b[39m)\n",
      "\u001b[1;31mNameError\u001b[0m: name 'embed' is not defined"
     ]
    }
   ],
   "source": [
    "import pandas as pd\n",
    "import numpy as np\n",
    "import sys\n",
    "import logging\n",
    "import emoji \n",
    "\n",
    "sys.path.append(\"src\")\n",
    "from song_search import find_nearest_song_annoy"
   ]
  },
  {
   "cell_type": "code",
   "execution_count": 4,
   "id": "98abc142",
   "metadata": {},
   "outputs": [],
   "source": [
    "lyrics = pd.read_json('../data/sample_data/top_10_spotify_translated.jsonv')\n",
    "emojis = lyrics['translated_lyrics'].values\n",
    "\n",
    "def get_emoji_name(emoji_char):\n",
    "    emoji_info = emoji.demojize(emoji_char)\n",
    "    emoji_name = emoji_info.strip(':').replace('\\u200d', '')\n",
    "    if len(emoji_name) > 0:\n",
    "        return emoji_name\n",
    "    return ''\n",
    "\n",
    "# get a song name by an emoji sequence\n",
    "def avg_pos(data, n=10):\n",
    "    matched = []\n",
    "    for i in range(n):\n",
    "        match = lyrics['song_name'].iloc[i]\n",
    "\n",
    "        input_emoji = data[i]\n",
    "\n",
    "        # emoji lib\n",
    "        input_emoji_names = [get_emoji_name(emoji_char) for emoji_char in input_emoji \\\n",
    "            if len(get_emoji_name(emoji_char)) > 0]\n",
    "        concatenated_names = '.'.join(input_emoji_names)\n",
    "\n",
    "        guess = find_nearest_song_annoy(concatenated_names, 10000) + [match]\n",
    "        print(guess.index(match), concatenated_names)\n",
    "        matched.append(guess.index(match))\n",
    "\n",
    "    return np.mean(matched)\n",
    "\n",
    "def test_accuracy_lyrics2emoji_search():\n",
    "    accuracy = avg_pos(emojis, len(emojis))\n",
    "    logging.critical(f'mean searched pos: {accuracy}')\n",
    "\n"
   ]
  },
  {
   "cell_type": "code",
   "execution_count": 5,
   "id": "695ea28a",
   "metadata": {},
   "outputs": [
    {
     "name": "stdout",
     "output_type": "stream",
     "text": [
      "21 brick.thinking_face.building_construction.brick.hammer\n",
      "74 automobile.locked.TOP_arrow.ladder.folded_hands\n",
      "193 thinking_face.boy.shield.girl\n",
      "86 musical_note.drum.loudspeaker\n",
      "729 musical_note.microphone.crown\n",
      "5 left_arrow\n"
     ]
    },
    {
     "name": "stderr",
     "output_type": "stream",
     "text": [
      "CRITICAL:root:mean searched pos: 234.7\n"
     ]
    },
    {
     "name": "stdout",
     "output_type": "stream",
     "text": [
      "513 thinking_face.cityscape.person_shrugging.male_sign.cityscape\n",
      "0 woman.school.school.backhand_index_pointing_left.red_question_mark\n",
      "641 people_with_bunny_ears.female_sign.person_running.female_sign\n",
      "85 ear.shushing_face\n"
     ]
    }
   ],
   "source": [
    "test_accuracy_lyrics2emoji_search()"
   ]
  }
 ],
 "metadata": {
  "kernelspec": {
   "display_name": "Python 3 (ipykernel)",
   "language": "python",
   "name": "python3"
  },
  "language_info": {
   "codemirror_mode": {
    "name": "ipython",
    "version": 3
   },
   "file_extension": ".py",
   "mimetype": "text/x-python",
   "name": "python",
   "nbconvert_exporter": "python",
   "pygments_lexer": "ipython3",
   "version": "3.11.6"
  }
 },
 "nbformat": 4,
 "nbformat_minor": 5
}
