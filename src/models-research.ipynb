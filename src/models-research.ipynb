{
 "cells": [
  {
   "cell_type": "code",
   "execution_count": 1,
   "id": "91cf3b11",
   "metadata": {},
   "outputs": [],
   "source": [
    "import pandas as pd\n",
    "import numpy as np\n",
    "import sys\n",
    "import logging\n",
    "from sklearn.metrics.pairwise import cosine_similarity\n",
    "import emoji \n",
    "\n",
    "sys.path.append(\"src\")\n",
    "from song_search import embed, find_nearest_song_annoy, lyrics_pre_process\n",
    "from text_to_emoji import translate_text"
   ]
  },
  {
   "cell_type": "code",
   "execution_count": 2,
   "id": "1908f3fc",
   "metadata": {},
   "outputs": [
    {
     "name": "stdout",
     "output_type": "stream",
     "text": [
      "[\"'\\\\U0001f9f1'\", \"'\\\\U0001f914'\", \"'\\\\U0001f3d7'\", \"'\\\\ufe0f'\", \"'\\\\U0001f9f1'\", \"'\\\\U0001f528'\"]\n",
      "['🧱', '🤔', '🏗', '️', '🧱', '🔨']\n",
      "'916,\\U0001f3d7\\ufe0f, Building Construction'\n"
     ]
    }
   ],
   "source": [
    "print([ascii(i) for i in list('🧱🤔🏗️🧱🔨')])\n",
    "print(list('🧱🤔🏗️🧱🔨'))\n",
    "print(ascii('916,🏗️, Building Construction'))"
   ]
  },
  {
   "cell_type": "code",
   "execution_count": 59,
   "id": "98abc142",
   "metadata": {},
   "outputs": [],
   "source": [
    "lyrics = pd.read_csv('../data/sample_data/top_10_artists_songs.csv')\n",
    "emojis = pd.read_csv('../data/emoji.csv')\n",
    "\n",
    "data_text = [\n",
    "    'Remember those walls I built',\n",
    "    'Driver roll up the partition please',\n",
    "    'If I were a Boy',\n",
    "    'Bring the beat in!',\n",
    "    '[Intro - Jay Z]',\n",
    "    'To the left..',\n",
    "    'What happened at the New Orleans?',\n",
    "    'Miss Third Wards, your first question',\n",
    "    'Girls, we run this motha!',\n",
    "    'Listen,'\n",
    "]\n",
    "\n",
    "data_1 = [\n",
    "    '🧱🤔🏗️🧱🔨',\n",
    "    '🚗🔒🔝🪜🙏',\n",
    "    '🤔👦🛡️👧',\n",
    "    '🎵🥁📢',\n",
    "    '🎵🎤👑',\n",
    "    '⬅️',\n",
    "    '🤔🏙️🤷‍♂️🏙️',\n",
    "    '👩‍🏫🏫👈❓',\n",
    "    '👯‍♀️🏃‍♀️',\n",
    "    '👂🤫'\n",
    "]\n",
    "\n",
    "def get_emoji_name(emoji_char):\n",
    "    emoji_info = emoji.demojize(emoji_char)\n",
    "    emoji_name = emoji_info.strip(':').replace('\\u200d', '')\n",
    "    if len(emoji_name) > 0:\n",
    "        return emoji_name\n",
    "    return ''\n",
    "\n",
    "# get a song name by the 1st line of lyrics\n",
    "def measure_accuracy(data, n=10):\n",
    "    matched = 0\n",
    "    for i in range(n):\n",
    "        match = lyrics['song_name'].iloc[i]\n",
    "\n",
    "        text = lyrics_pre_process(data[i])\n",
    "        guess = find_nearest_song_annoy(text, 100)\n",
    "        \n",
    "        if match in guess:\n",
    "            matched += 1\n",
    "    accuracy = matched * 100 / n\n",
    "    return accuracy\n",
    "\n",
    "# get a song name by an emoji sequence\n",
    "def avg_pos(data, n=10):\n",
    "    matched = []\n",
    "    for i in range(n):\n",
    "        match = lyrics['song_name'].iloc[i]\n",
    "\n",
    "        input_emoji = data[i]\n",
    "\n",
    "        input_emoji_names = [get_emoji_name(emoji_char) for emoji_char in input_emoji \\\n",
    "            if len(get_emoji_name(emoji_char)) > 0]\n",
    "        concatenated_names = '.'.join(input_emoji_names)\n",
    "\n",
    "        # input_emoji_names = [emojis.loc[emojis['emoji'].map(lambda x: emoji in x), 'name'].iloc[0] \\\n",
    "        #     if len(emojis.loc[emojis['emoji'].map(lambda x: emoji in x), 'name']) else 'Unknown' for emoji in input_emoji]\n",
    "        # concatenated_names = input_emoji\n",
    "\n",
    "        guess = find_nearest_song_annoy(concatenated_names, 10000) + [match]\n",
    "        print(guess.index(match), concatenated_names)\n",
    "        matched.append(guess.index(match))\n",
    "\n",
    "    return np.mean(matched)\n",
    "\n",
    "def test_accuracy_lyrics2emoji_search():\n",
    "        accuracy = avg_pos(data_1)\n",
    "        logging.critical(f'mean searched pos: {accuracy}')\n",
    "\n"
   ]
  },
  {
   "cell_type": "code",
   "execution_count": 60,
   "id": "695ea28a",
   "metadata": {},
   "outputs": [
    {
     "name": "stdout",
     "output_type": "stream",
     "text": [
      "21 brick.thinking_face.building_construction.brick.hammer\n",
      "74 automobile.locked.TOP_arrow.ladder.folded_hands\n",
      "193 thinking_face.boy.shield.girl\n",
      "86 musical_note.drum.loudspeaker\n",
      "729 musical_note.microphone.crown\n",
      "5 left_arrow\n",
      "513 thinking_face.cityscape.person_shrugging.male_sign.cityscape\n"
     ]
    },
    {
     "name": "stderr",
     "output_type": "stream",
     "text": [
      "CRITICAL:root:mean searched pos: 234.7\n"
     ]
    },
    {
     "name": "stdout",
     "output_type": "stream",
     "text": [
      "0 woman.school.school.backhand_index_pointing_left.red_question_mark\n",
      "641 people_with_bunny_ears.female_sign.person_running.female_sign\n",
      "85 ear.shushing_face\n"
     ]
    }
   ],
   "source": [
    "test_accuracy_lyrics2emoji_search()"
   ]
  }
 ],
 "metadata": {
  "kernelspec": {
   "display_name": "Python 3 (ipykernel)",
   "language": "python",
   "name": "python3"
  },
  "language_info": {
   "codemirror_mode": {
    "name": "ipython",
    "version": 3
   },
   "file_extension": ".py",
   "mimetype": "text/x-python",
   "name": "python",
   "nbconvert_exporter": "python",
   "pygments_lexer": "ipython3",
   "version": "3.11.6"
  }
 },
 "nbformat": 4,
 "nbformat_minor": 5
}
